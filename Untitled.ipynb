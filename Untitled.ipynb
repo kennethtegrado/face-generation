{
 "cells": [
  {
   "cell_type": "code",
   "execution_count": 3,
   "id": "9766bbd3",
   "metadata": {},
   "outputs": [
    {
     "name": "stdout",
     "output_type": "stream",
     "text": [
      "Random sampling and copying completed.\n"
     ]
    }
   ],
   "source": [
    "import os\n",
    "import random\n",
    "import shutil\n",
    "\n",
    "# Set the paths\n",
    "dataset_folder = 'dataset'  # Replace with the path to your dataset folder\n",
    "dataset_v2_folder = 'dataset_v2'  # Replace with the desired path for the new dataset folder\n",
    "\n",
    "# Ensure the destination folder exists, or create it\n",
    "if not os.path.exists(dataset_v2_folder):\n",
    "    os.makedirs(dataset_v2_folder)\n",
    "\n",
    "# Get a list of all files in the original dataset folder\n",
    "all_files = os.listdir(dataset_folder)\n",
    "\n",
    "# Randomly select 500 files\n",
    "selected_files = random.sample(all_files, 150)\n",
    "\n",
    "# Move the selected files to the new dataset folder\n",
    "for file_name in selected_files:\n",
    "    source_path = os.path.join(dataset_folder, file_name)\n",
    "    destination_path = os.path.join(dataset_v2_folder, file_name)\n",
    "    shutil.copyfile(source_path, destination_path)\n",
    "\n",
    "print(\"Random sampling and copying completed.\")"
   ]
  }
 ],
 "metadata": {
  "kernelspec": {
   "display_name": "Python 3 (ipykernel)",
   "language": "python",
   "name": "python3"
  },
  "language_info": {
   "codemirror_mode": {
    "name": "ipython",
    "version": 3
   },
   "file_extension": ".py",
   "mimetype": "text/x-python",
   "name": "python",
   "nbconvert_exporter": "python",
   "pygments_lexer": "ipython3",
   "version": "3.10.12"
  }
 },
 "nbformat": 4,
 "nbformat_minor": 5
}
